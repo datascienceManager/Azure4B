{
 "cells": [
  {
   "cell_type": "code",
   "execution_count": null,
   "metadata": {},
   "outputs": [],
   "source": [
    "# https://www.testpreptraining.com/tutorial/exam-dp-100-designing-implementing-a-data-science-solution-on-azure/\n",
    "# https://www.gratisexam.com/microsoft/dp-100-exam/\n",
    "# https://medium.com/deep-ai/study-guide-for-microsoft-azure-data-scientist-associate-certification-dp-100-c2e4611cb071\n",
    "\n",
    "# https://docs.microsoft.com/en-us/azure/devops/?view=azure-devops&viewFallbackFrom=vsts"
   ]
  },
  {
   "cell_type": "code",
   "execution_count": 2,
   "metadata": {},
   "outputs": [
    {
     "name": "stdout",
     "output_type": "stream",
     "text": [
      "Requirement already satisfied: azureml-core in c:\\users\\manjunath\\miniconda3\\envs\\amlv1\\lib\\site-packages (1.37.0.post1)\n",
      "Requirement already satisfied: azure-graphrbac<1.0.0,>=0.40.0 in c:\\users\\manjunath\\miniconda3\\envs\\amlv1\\lib\\site-packages (from azureml-core) (0.61.1)\n",
      "Requirement already satisfied: msal-extensions<0.4,>=0.3.0 in c:\\users\\manjunath\\miniconda3\\envs\\amlv1\\lib\\site-packages (from azureml-core) (0.3.1)\n",
      "Requirement already satisfied: msrest<1.0.0,>=0.5.1 in c:\\users\\manjunath\\miniconda3\\envs\\amlv1\\lib\\site-packages (from azureml-core) (0.6.21)\n",
      "Requirement already satisfied: pytz in c:\\users\\manjunath\\miniconda3\\envs\\amlv1\\lib\\site-packages (from azureml-core) (2021.3)\n",
      "Requirement already satisfied: pathspec<1.0.0 in c:\\users\\manjunath\\miniconda3\\envs\\amlv1\\lib\\site-packages (from azureml-core) (0.9.0)\n",
      "Requirement already satisfied: msal<2.0.0,>=1.15.0 in c:\\users\\manjunath\\miniconda3\\envs\\amlv1\\lib\\site-packages (from azureml-core) (1.16.0)\n",
      "Requirement already satisfied: jmespath<1.0.0 in c:\\users\\manjunath\\miniconda3\\envs\\amlv1\\lib\\site-packages (from azureml-core) (0.10.0)\n",
      "Requirement already satisfied: jsonpickle<3.0.0 in c:\\users\\manjunath\\appdata\\roaming\\python\\python38\\site-packages (from azureml-core) (2.0.0)\n",
      "Requirement already satisfied: msrestazure<=0.6.4,>=0.4.33 in c:\\users\\manjunath\\miniconda3\\envs\\amlv1\\lib\\site-packages (from azureml-core) (0.6.4)\n",
      "Requirement already satisfied: azure-mgmt-storage<20.0.0,>=16.0.0 in c:\\users\\manjunath\\miniconda3\\envs\\amlv1\\lib\\site-packages (from azureml-core) (19.0.0)\n",
      "Requirement already satisfied: adal<=1.2.7,>=1.2.0 in c:\\users\\manjunath\\miniconda3\\envs\\amlv1\\lib\\site-packages (from azureml-core) (1.2.7)\n",
      "Requirement already satisfied: SecretStorage<4.0.0 in c:\\users\\manjunath\\miniconda3\\envs\\amlv1\\lib\\site-packages (from azureml-core) (3.3.1)\n",
      "Requirement already satisfied: azure-core<1.21 in c:\\users\\manjunath\\miniconda3\\envs\\amlv1\\lib\\site-packages (from azureml-core) (1.20.1)\n",
      "Requirement already satisfied: azure-common<2.0.0,>=1.1.12 in c:\\users\\manjunath\\miniconda3\\envs\\amlv1\\lib\\site-packages (from azureml-core) (1.1.27)\n",
      "Requirement already satisfied: azure-mgmt-authorization<1.0.0,>=0.40.0 in c:\\users\\manjunath\\miniconda3\\envs\\amlv1\\lib\\site-packages (from azureml-core) (0.61.0)\n",
      "Requirement already satisfied: python-dateutil<3.0.0,>=2.7.3 in c:\\users\\manjunath\\miniconda3\\envs\\amlv1\\lib\\site-packages (from azureml-core) (2.8.2)\n",
      "Requirement already satisfied: ndg-httpsclient<=0.5.1 in c:\\users\\manjunath\\miniconda3\\envs\\amlv1\\lib\\site-packages (from azureml-core) (0.5.1)\n",
      "Requirement already satisfied: docker<6.0.0 in c:\\users\\manjunath\\miniconda3\\envs\\amlv1\\lib\\site-packages (from azureml-core) (5.0.3)\n",
      "Requirement already satisfied: PyJWT<3.0.0 in c:\\users\\manjunath\\miniconda3\\envs\\amlv1\\lib\\site-packages (from azureml-core) (2.3.0)\n",
      "Requirement already satisfied: packaging<22.0 in c:\\users\\manjunath\\miniconda3\\envs\\amlv1\\lib\\site-packages (from azureml-core) (21.3)\n",
      "Requirement already satisfied: argcomplete~=1.8 in c:\\users\\manjunath\\miniconda3\\envs\\amlv1\\lib\\site-packages (from azureml-core) (1.12.3)\n",
      "Requirement already satisfied: azure-mgmt-keyvault<10.0.0,>=0.40.0 in c:\\users\\manjunath\\miniconda3\\envs\\amlv1\\lib\\site-packages (from azureml-core) (9.3.0)\n",
      "Requirement already satisfied: urllib3<=1.26.7,>=1.23 in c:\\users\\manjunath\\miniconda3\\envs\\amlv1\\lib\\site-packages (from azureml-core) (1.26.7)\n",
      "Requirement already satisfied: contextlib2<22.0.0 in c:\\users\\manjunath\\miniconda3\\envs\\amlv1\\lib\\site-packages (from azureml-core) (21.6.0)\n",
      "Requirement already satisfied: knack~=0.8.2 in c:\\users\\manjunath\\miniconda3\\envs\\amlv1\\lib\\site-packages (from azureml-core) (0.8.2)\n",
      "Requirement already satisfied: cryptography!=1.9,!=2.0.*,!=2.1.*,!=2.2.*,<4.0.0 in c:\\users\\manjunath\\miniconda3\\envs\\amlv1\\lib\\site-packages (from azureml-core) (3.4.8)\n",
      "Requirement already satisfied: azure-mgmt-containerregistry>=2.0.0 in c:\\users\\manjunath\\miniconda3\\envs\\amlv1\\lib\\site-packages (from azureml-core) (8.2.0)\n",
      "Requirement already satisfied: pyopenssl<22.0.0 in c:\\users\\manjunath\\miniconda3\\envs\\amlv1\\lib\\site-packages (from azureml-core) (21.0.0)\n",
      "Requirement already satisfied: backports.tempfile in c:\\users\\manjunath\\miniconda3\\envs\\amlv1\\lib\\site-packages (from azureml-core) (1.0)\n",
      "Requirement already satisfied: pkginfo in c:\\users\\manjunath\\miniconda3\\envs\\amlv1\\lib\\site-packages (from azureml-core) (1.8.2)\n",
      "Requirement already satisfied: requests[socks]<3.0.0,>=2.19.1 in c:\\users\\manjunath\\miniconda3\\envs\\amlv1\\lib\\site-packages (from azureml-core) (2.26.0)\n",
      "Requirement already satisfied: paramiko<3.0.0,>=2.0.8 in c:\\users\\manjunath\\miniconda3\\envs\\amlv1\\lib\\site-packages (from azureml-core) (2.9.1)\n",
      "Requirement already satisfied: azure-mgmt-resource<20.0.0,>=15.0.0 in c:\\users\\manjunath\\miniconda3\\envs\\amlv1\\lib\\site-packages (from azureml-core) (19.0.0)\n",
      "Requirement already satisfied: humanfriendly<10.0,>=4.7 in c:\\users\\manjunath\\appdata\\roaming\\python\\python38\\site-packages (from azureml-core) (9.1)\n",
      "Requirement already satisfied: six>=1.11.0 in c:\\users\\manjunath\\miniconda3\\envs\\amlv1\\lib\\site-packages (from azure-core<1.21->azureml-core) (1.16.0)\n",
      "Requirement already satisfied: azure-mgmt-core<2.0.0,>=1.2.0 in c:\\users\\manjunath\\miniconda3\\envs\\amlv1\\lib\\site-packages (from azure-mgmt-containerregistry>=2.0.0->azureml-core) (1.3.0)\n",
      "Requirement already satisfied: cffi>=1.12 in c:\\users\\manjunath\\miniconda3\\envs\\amlv1\\lib\\site-packages (from cryptography!=1.9,!=2.0.*,!=2.1.*,!=2.2.*,<4.0.0->azureml-core) (1.15.0)\n",
      "Requirement already satisfied: pycparser in c:\\users\\manjunath\\miniconda3\\envs\\amlv1\\lib\\site-packages (from cffi>=1.12->cryptography!=1.9,!=2.0.*,!=2.1.*,!=2.2.*,<4.0.0->azureml-core) (2.21)\n",
      "Requirement already satisfied: pywin32==227 in c:\\users\\manjunath\\miniconda3\\envs\\amlv1\\lib\\site-packages (from docker<6.0.0->azureml-core) (227)\n",
      "Requirement already satisfied: websocket-client>=0.32.0 in c:\\users\\manjunath\\miniconda3\\envs\\amlv1\\lib\\site-packages (from docker<6.0.0->azureml-core) (1.2.3)\n",
      "Requirement already satisfied: pyreadline in c:\\users\\manjunath\\appdata\\roaming\\python\\python38\\site-packages (from humanfriendly<10.0,>=4.7->azureml-core) (2.1)\n",
      "Requirement already satisfied: pygments in c:\\users\\manjunath\\miniconda3\\envs\\amlv1\\lib\\site-packages (from knack~=0.8.2->azureml-core) (2.10.0)\n",
      "Requirement already satisfied: colorama in c:\\users\\manjunath\\appdata\\roaming\\python\\python38\\site-packages (from knack~=0.8.2->azureml-core) (0.4.4)\n",
      "Requirement already satisfied: tabulate in c:\\users\\manjunath\\miniconda3\\envs\\amlv1\\lib\\site-packages (from knack~=0.8.2->azureml-core) (0.8.9)\n",
      "Requirement already satisfied: pyyaml in c:\\users\\manjunath\\miniconda3\\envs\\amlv1\\lib\\site-packages (from knack~=0.8.2->azureml-core) (6.0)\n",
      "Requirement already satisfied: portalocker<3,>=1.6 in c:\\users\\manjunath\\miniconda3\\envs\\amlv1\\lib\\site-packages (from msal-extensions<0.4,>=0.3.0->azureml-core) (2.3.2)\n",
      "Requirement already satisfied: isodate>=0.6.0 in c:\\users\\manjunath\\miniconda3\\envs\\amlv1\\lib\\site-packages (from msrest<1.0.0,>=0.5.1->azureml-core) (0.6.1)\n",
      "Requirement already satisfied: certifi>=2017.4.17 in c:\\users\\manjunath\\miniconda3\\envs\\amlv1\\lib\\site-packages (from msrest<1.0.0,>=0.5.1->azureml-core) (2021.10.8)\n",
      "Requirement already satisfied: requests-oauthlib>=0.5.0 in c:\\users\\manjunath\\miniconda3\\envs\\amlv1\\lib\\site-packages (from msrest<1.0.0,>=0.5.1->azureml-core) (1.3.0)\n",
      "Requirement already satisfied: pyasn1>=0.1.1 in c:\\users\\manjunath\\miniconda3\\envs\\amlv1\\lib\\site-packages (from ndg-httpsclient<=0.5.1->azureml-core) (0.4.8)\n",
      "Requirement already satisfied: pyparsing!=3.0.5,>=2.0.2 in c:\\users\\manjunath\\miniconda3\\envs\\amlv1\\lib\\site-packages (from packaging<22.0->azureml-core) (3.0.6)\n",
      "Requirement already satisfied: bcrypt>=3.1.3 in c:\\users\\manjunath\\miniconda3\\envs\\amlv1\\lib\\site-packages (from paramiko<3.0.0,>=2.0.8->azureml-core) (3.2.0)\n",
      "Requirement already satisfied: pynacl>=1.0.1 in c:\\users\\manjunath\\miniconda3\\envs\\amlv1\\lib\\site-packages (from paramiko<3.0.0,>=2.0.8->azureml-core) (1.4.0)\n",
      "Requirement already satisfied: charset-normalizer~=2.0.0 in c:\\users\\manjunath\\miniconda3\\envs\\amlv1\\lib\\site-packages (from requests[socks]<3.0.0,>=2.19.1->azureml-core) (2.0.9)\n",
      "Requirement already satisfied: idna<4,>=2.5 in c:\\users\\manjunath\\miniconda3\\envs\\amlv1\\lib\\site-packages (from requests[socks]<3.0.0,>=2.19.1->azureml-core) (3.3)\n",
      "Requirement already satisfied: oauthlib>=3.0.0 in c:\\users\\manjunath\\miniconda3\\envs\\amlv1\\lib\\site-packages (from requests-oauthlib>=0.5.0->msrest<1.0.0,>=0.5.1->azureml-core) (3.1.1)\n",
      "Requirement already satisfied: PySocks!=1.5.7,>=1.5.6 in c:\\users\\manjunath\\miniconda3\\envs\\amlv1\\lib\\site-packages (from requests[socks]<3.0.0,>=2.19.1->azureml-core) (1.7.1)\n",
      "Requirement already satisfied: jeepney>=0.6 in c:\\users\\manjunath\\miniconda3\\envs\\amlv1\\lib\\site-packages (from SecretStorage<4.0.0->azureml-core) (0.7.1)\n",
      "Requirement already satisfied: backports.weakref in c:\\users\\manjunath\\miniconda3\\envs\\amlv1\\lib\\site-packages (from backports.tempfile->azureml-core) (1.0.post1)\n"
     ]
    }
   ],
   "source": [
    "# !pip install azureml-core\n"
   ]
  },
  {
   "cell_type": "code",
   "execution_count": 3,
   "metadata": {},
   "outputs": [
    {
     "name": "stdout",
     "output_type": "stream",
     "text": [
      "Requirement already satisfied: azure-core in c:\\users\\manjunath\\miniconda3\\envs\\amlv1\\lib\\site-packages (1.20.1)\n",
      "Requirement already satisfied: six>=1.11.0 in c:\\users\\manjunath\\miniconda3\\envs\\amlv1\\lib\\site-packages (from azure-core) (1.16.0)\n",
      "Requirement already satisfied: requests>=2.18.4 in c:\\users\\manjunath\\miniconda3\\envs\\amlv1\\lib\\site-packages (from azure-core) (2.26.0)\n",
      "Requirement already satisfied: urllib3<1.27,>=1.21.1 in c:\\users\\manjunath\\miniconda3\\envs\\amlv1\\lib\\site-packages (from requests>=2.18.4->azure-core) (1.26.7)\n",
      "Requirement already satisfied: idna<4,>=2.5 in c:\\users\\manjunath\\miniconda3\\envs\\amlv1\\lib\\site-packages (from requests>=2.18.4->azure-core) (3.3)\n",
      "Requirement already satisfied: certifi>=2017.4.17 in c:\\users\\manjunath\\miniconda3\\envs\\amlv1\\lib\\site-packages (from requests>=2.18.4->azure-core) (2021.10.8)\n",
      "Requirement already satisfied: charset-normalizer~=2.0.0 in c:\\users\\manjunath\\miniconda3\\envs\\amlv1\\lib\\site-packages (from requests>=2.18.4->azure-core) (2.0.9)\n"
     ]
    }
   ],
   "source": [
    "# !pip install azure-core"
   ]
  },
  {
   "cell_type": "code",
   "execution_count": 1,
   "metadata": {},
   "outputs": [],
   "source": [
    "import sys"
   ]
  },
  {
   "cell_type": "code",
   "execution_count": 2,
   "metadata": {},
   "outputs": [],
   "source": [
    "# sys.path"
   ]
  },
  {
   "cell_type": "code",
   "execution_count": 25,
   "metadata": {},
   "outputs": [],
   "source": [
    "# Importing all the libraries\n",
    "import azure.core\n",
    "from azureml.core import Workspace,Environment,Experiment,ScriptRunConfig\n",
    "from azureml.core.compute import AmlCompute,ComputeTarget\n",
    "from azureml.core import Run"
   ]
  },
  {
   "cell_type": "code",
   "execution_count": 26,
   "metadata": {},
   "outputs": [],
   "source": [
    "try:\n",
    "    ws = Workspace.from_config()\n",
    "except:\n",
    "    ws = Workspace.create('MLlearnv1',resource_group='AzureMLV',\n",
    "                     subscription_id= '76002742-0a9e-44d5-9d98-143f3a2bf30f',\n",
    "                     create_resource_group=False,\n",
    "                     location ='Southeast Asia')\n",
    "    ws.write_config('.azureml')\n",
    "    "
   ]
  },
  {
   "cell_type": "code",
   "execution_count": 27,
   "metadata": {},
   "outputs": [
    {
     "data": {
      "text/plain": [
       "Workspace.create(name='MLlearnv1', subscription_id='76002742-0a9e-44d5-9d98-143f3a2bf30f', resource_group='AzureMLV')"
      ]
     },
     "execution_count": 27,
     "metadata": {},
     "output_type": "execute_result"
    }
   ],
   "source": [
    "# To get the details\n",
    "ws.from_config()"
   ]
  },
  {
   "cell_type": "code",
   "execution_count": 28,
   "metadata": {},
   "outputs": [],
   "source": [
    "# Creating Computer Cluster\n",
    "try:\n",
    "    cluster = ComputeTarget(ws,'MLlearn-cluster')\n",
    "except:\n",
    "    config= AmlCompute.provisioning_configuration(vm_size='STANDARD_D3_V2',\n",
    "                                                 min_nodes=0,\n",
    "                                                 max_nodes=4,\n",
    "                                                 idle_seconds_before_scaledown=2400)\n",
    "    cluster=ComputeTarget.create(ws,'MLlearn-cluster',config)"
   ]
  },
  {
   "cell_type": "code",
   "execution_count": 29,
   "metadata": {},
   "outputs": [
    {
     "data": {
      "text/plain": [
       "{'MLlearn-cluster': AmlCompute(workspace=Workspace.create(name='MLlearnv1', subscription_id='76002742-0a9e-44d5-9d98-143f3a2bf30f', resource_group='AzureMLV'), name=MLlearn-cluster, id=/subscriptions/76002742-0a9e-44d5-9d98-143f3a2bf30f/resourceGroups/AzureMLV/providers/Microsoft.MachineLearningServices/workspaces/MLlearnv1/computes/MLlearn-cluster, type=AmlCompute, provisioning_state=Succeeded, location=southeastasia, tags={})}"
      ]
     },
     "execution_count": 29,
     "metadata": {},
     "output_type": "execute_result"
    }
   ],
   "source": [
    "ws.compute_targets"
   ]
  },
  {
   "cell_type": "code",
   "execution_count": 15,
   "metadata": {},
   "outputs": [],
   "source": [
    "# ws.datastores"
   ]
  },
  {
   "cell_type": "markdown",
   "metadata": {},
   "source": [
    "# Creating Experiment"
   ]
  },
  {
   "cell_type": "code",
   "execution_count": 30,
   "metadata": {},
   "outputs": [],
   "source": [
    "exp = Experiment(ws,'MLlearnExperiment')"
   ]
  },
  {
   "cell_type": "code",
   "execution_count": 7,
   "metadata": {},
   "outputs": [
    {
     "data": {
      "text/html": [
       "<table style=\"width:100%\"><tr><th>Name</th><th>Workspace</th><th>Report Page</th><th>Docs Page</th></tr><tr><td>MLlearnExperiment</td><td>MLlearnv1</td><td><a href=\"https://ml.azure.com/experiments/id/dce2d98b-0c34-40e7-88d7-4fd7d2e9e639?wsid=/subscriptions/76002742-0a9e-44d5-9d98-143f3a2bf30f/resourcegroups/AzureMLV/workspaces/MLlearnv1&amp;tid=587c3529-50b9-4386-bd82-d836a48ac831\" target=\"_blank\" rel=\"noopener\">Link to Azure Machine Learning studio</a></td><td><a href=\"https://docs.microsoft.com/en-us/python/api/azureml-core/azureml.core.experiment.Experiment?view=azure-ml-py\" target=\"_blank\" rel=\"noopener\">Link to Documentation</a></td></tr></table>"
      ],
      "text/plain": [
       "Experiment(Name: MLlearnExperiment,\n",
       "Workspace: MLlearnv1)"
      ]
     },
     "execution_count": 7,
     "metadata": {},
     "output_type": "execute_result"
    }
   ],
   "source": [
    "exp"
   ]
  },
  {
   "cell_type": "code",
   "execution_count": 31,
   "metadata": {},
   "outputs": [],
   "source": [
    "# Executing below code if the evironment and libraries are already available in AzureML , \n",
    "# if not then following need to be executed following code \n",
    "\n",
    "pythonconfig = ScriptRunConfig(source_directory='./',script='AzurePrac2.py',compute_target='MLlearn-cluster')\n",
    "execution=exp.submit(pythonconfig)"
   ]
  },
  {
   "cell_type": "code",
   "execution_count": 9,
   "metadata": {},
   "outputs": [],
   "source": [
    "# Creating Environment in Azure\n",
    "env = Environment.from_conda_specification(name='virtualenv',file_path='./envfile2.yml')\n",
    "pythonconfig = ScriptRunConfig(source_directory='./',script='AzurePrac2.py',compute_target='MLlearn-cluster',environment=env)\n",
    "execution=exp.submit(pythonconfig)"
   ]
  },
  {
   "cell_type": "code",
   "execution_count": 23,
   "metadata": {},
   "outputs": [],
   "source": [
    "# Passing arguments on runtime ========= First Iteration \n",
    "env = Environment.from_conda_specification(name='virtualenv',file_path='./envfile2.yml')\n",
    "pythonconfig = ScriptRunConfig(source_directory='./',script='AzurePrac2.py',compute_target='MLlearn-cluster',\n",
    "                               arguments=['--min_samples_leaf',5,'--min_samples_split',8,'--max_depth',120,'--n_estimators',700],\n",
    "                               environment=env)\n",
    "execution= exp.submit(pythonconfig)"
   ]
  },
  {
   "cell_type": "code",
   "execution_count": 32,
   "metadata": {},
   "outputs": [],
   "source": [
    "# Passing arguments on runtime ========= Second Iteration with change in the arugments\n",
    "env = Environment.from_conda_specification(name='virtualenv',file_path='./envfile2.yml')\n",
    "pythonconfig = ScriptRunConfig(source_directory='./',\n",
    "                               script='AzurePrac2.py',\n",
    "                               compute_target='MLlearn-cluster',\n",
    "                               arguments=['--min_samples_leaf',5,'--min_samples_split',5,'--max_depth',150,'--n_estimators',1000],\n",
    "                               environment=env)\n",
    "execution= exp.submit(pythonconfig)\n"
   ]
  },
  {
   "cell_type": "markdown",
   "metadata": {},
   "source": [
    "# Registring the Model in AzureML Studio"
   ]
  },
  {
   "cell_type": "code",
   "execution_count": 33,
   "metadata": {},
   "outputs": [
    {
     "name": "stdout",
     "output_type": "stream",
     "text": [
      "Registering model RegressionModelDectwentyonetwo\n"
     ]
    },
    {
     "data": {
      "text/plain": [
       "Model(workspace=Workspace.create(name='MLlearnv1', subscription_id='76002742-0a9e-44d5-9d98-143f3a2bf30f', resource_group='AzureMLV'), name=RegressionModelDectwentyonetwo, id=RegressionModelDectwentyonetwo:1, version=1, tags={}, properties={})"
      ]
     },
     "execution_count": 33,
     "metadata": {},
     "output_type": "execute_result"
    }
   ],
   "source": [
    "from azureml.core import Model\n",
    "\n",
    "Model.register(ws,model_path='./RegressorModel.pkl',model_name=\"RegressionModelDectwentyonetwo\")"
   ]
  },
  {
   "cell_type": "markdown",
   "metadata": {},
   "source": [
    "Deploying the Model  "
   ]
  },
  {
   "cell_type": "markdown",
   "metadata": {},
   "source": [
    "# Preparing Scoring/prediction Script\n",
    "# Creating Inference Environment\n",
    "# Define Inference Config\n",
    "# Choosing the compute Target\n",
    "# Deploty Model"
   ]
  },
  {
   "cell_type": "code",
   "execution_count": 34,
   "metadata": {},
   "outputs": [],
   "source": [
    "from azureml.core.model import InferenceConfig\n",
    "from azureml.core.conda_dependencies import CondaDependencies"
   ]
  },
  {
   "cell_type": "code",
   "execution_count": 35,
   "metadata": {},
   "outputs": [],
   "source": [
    "predEnv = CondaDependencies()"
   ]
  },
  {
   "cell_type": "code",
   "execution_count": 36,
   "metadata": {},
   "outputs": [],
   "source": [
    "predEnv.add_conda_package('scikit-learn')\n",
    "predEnv.add_pip_package('azure-sdk')"
   ]
  },
  {
   "cell_type": "code",
   "execution_count": 37,
   "metadata": {},
   "outputs": [
    {
     "data": {
      "text/plain": [
       "<azureml.core.conda_dependencies.CondaDependencies at 0x248c2450220>"
      ]
     },
     "execution_count": 37,
     "metadata": {},
     "output_type": "execute_result"
    }
   ],
   "source": [
    "predEnv"
   ]
  },
  {
   "cell_type": "markdown",
   "metadata": {},
   "source": [
    "# Saving all the required environment details in yml file "
   ]
  },
  {
   "cell_type": "markdown",
   "metadata": {},
   "source": [
    "<!-- https://docs.microsoft.com/en-us/python/api/azureml-core/azureml.core.webservice(class)?view=azure-ml-py -->\n",
    "\n",
    "<!-- Azure sdk code -->"
   ]
  },
  {
   "cell_type": "code",
   "execution_count": 39,
   "metadata": {},
   "outputs": [
    {
     "name": "stdout",
     "output_type": "stream",
     "text": [
      "Saved dependency info in ./predEnv.yml\n"
     ]
    }
   ],
   "source": [
    "env_file = './predEnv.yml'\n",
    "\n",
    "with open(env_file,'w') as f:\n",
    "    f.write(predEnv.serialize_to_string())\n",
    "print('Saved dependency info in',env_file)"
   ]
  },
  {
   "cell_type": "markdown",
   "metadata": {},
   "source": [
    "Inference Config"
   ]
  },
  {
   "cell_type": "code",
   "execution_count": 40,
   "metadata": {},
   "outputs": [],
   "source": [
    "from azureml.core.model import InferenceConfig\n",
    "\n",
    "inferconfig = InferenceConfig(runtime='python',source_directory='./',entry_script='ScoreOrPrediction.py',conda_file=env_file)"
   ]
  },
  {
   "cell_type": "markdown",
   "metadata": {},
   "source": [
    "Chossing Compute Target"
   ]
  },
  {
   "cell_type": "code",
   "execution_count": 41,
   "metadata": {},
   "outputs": [],
   "source": [
    "from azureml.core.webservice import AciWebservice\n",
    "\n",
    "ACIconfig = AciWebservice.deploy_configuration(cpu_cores=1,memory_gb=1)"
   ]
  },
  {
   "cell_type": "code",
   "execution_count": 42,
   "metadata": {},
   "outputs": [],
   "source": [
    "model = Model(ws,'RegressionModelDectwentyonetwo')"
   ]
  },
  {
   "cell_type": "markdown",
   "metadata": {},
   "source": [
    "<!-- EndpointName is 'ScoreRegressor' -->"
   ]
  },
  {
   "cell_type": "code",
   "execution_count": 43,
   "metadata": {},
   "outputs": [],
   "source": [
    "deploy_model = Model.deploy(ws,\"scoreregressor\",\n",
    "                        models=[model],\n",
    "                        inference_config=inferconfig,\n",
    "                        deployment_config=ACIconfig,\n",
    "                        deployment_target=predEnv,\n",
    "                        overwrite=True)"
   ]
  },
  {
   "cell_type": "code",
   "execution_count": null,
   "metadata": {},
   "outputs": [],
   "source": []
  },
  {
   "cell_type": "code",
   "execution_count": null,
   "metadata": {},
   "outputs": [],
   "source": []
  },
  {
   "cell_type": "code",
   "execution_count": null,
   "metadata": {},
   "outputs": [],
   "source": []
  },
  {
   "cell_type": "code",
   "execution_count": null,
   "metadata": {},
   "outputs": [],
   "source": []
  },
  {
   "cell_type": "code",
   "execution_count": null,
   "metadata": {},
   "outputs": [],
   "source": []
  },
  {
   "cell_type": "code",
   "execution_count": null,
   "metadata": {},
   "outputs": [],
   "source": []
  }
 ],
 "metadata": {
  "kernelspec": {
   "display_name": "Python 3.9.5 ('VL9')",
   "language": "python",
   "name": "python3"
  },
  "language_info": {
   "codemirror_mode": {
    "name": "ipython",
    "version": 3
   },
   "file_extension": ".py",
   "mimetype": "text/x-python",
   "name": "python",
   "nbconvert_exporter": "python",
   "pygments_lexer": "ipython3",
   "version": "3.9.5"
  },
  "vscode": {
   "interpreter": {
    "hash": "d61121ca7a394dca070855664f7236a125b2473104ec4d1754aa31f54ef2bcf1"
   }
  }
 },
 "nbformat": 4,
 "nbformat_minor": 4
}
